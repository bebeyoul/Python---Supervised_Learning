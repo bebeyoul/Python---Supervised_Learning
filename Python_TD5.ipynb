{
 "cells": [
  {
   "cell_type": "markdown",
   "metadata": {},
   "source": [
    "# TD5 Python"
   ]
  },
  {
   "cell_type": "markdown",
   "metadata": {},
   "source": [
    "## 1. Load and return the boston dataset from sklearn.datasets."
   ]
  },
  {
   "cell_type": "code",
   "execution_count": 1,
   "metadata": {},
   "outputs": [],
   "source": [
    "from  sklearn import datasets"
   ]
  },
  {
   "cell_type": "code",
   "execution_count": 2,
   "metadata": {},
   "outputs": [],
   "source": [
    "boston= datasets.load_boston()\n",
    "X= boston[\"data\"] #tableau de tableaux\n",
    "Y= boston[\"target\"] # tableau de float"
   ]
  },
  {
   "cell_type": "code",
   "execution_count": 12,
   "metadata": {},
   "outputs": [
    {
     "data": {
      "text/plain": [
       "(506, 13)"
      ]
     },
     "execution_count": 12,
     "metadata": {},
     "output_type": "execute_result"
    }
   ],
   "source": [
    "X.shape"
   ]
  },
  {
   "cell_type": "code",
   "execution_count": 9,
   "metadata": {},
   "outputs": [
    {
     "data": {
      "text/plain": [
       "506"
      ]
     },
     "execution_count": 9,
     "metadata": {},
     "output_type": "execute_result"
    }
   ],
   "source": [
    "len(Y)"
   ]
  },
  {
   "cell_type": "markdown",
   "metadata": {},
   "source": [
    "## 2. Split the boston dataset into train data and test data."
   ]
  },
  {
   "cell_type": "code",
   "execution_count": 34,
   "metadata": {},
   "outputs": [],
   "source": [
    "from sklearn.model_selection import train_test_split"
   ]
  },
  {
   "cell_type": "code",
   "execution_count": 35,
   "metadata": {},
   "outputs": [
    {
     "name": "stdout",
     "output_type": "stream",
     "text": [
      "X_train:  (339, 13) ; X_test:  (167, 13)\n",
      "Y_train:  (339,) ; Y_test:  (167,)\n"
     ]
    }
   ],
   "source": [
    "X_train, X_test, Y_train, Y_test = train_test_split(X, Y, test_size=0.33)\n",
    "print(\"X_train: \", X_train.shape,\"; X_test: \", X_test.shape)\n",
    "print(\"Y_train: \", Y_train.shape, \"; Y_test: \", Y_test.shape)\n"
   ]
  },
  {
   "cell_type": "markdown",
   "metadata": {},
   "source": [
    "## 3. Standardize the data."
   ]
  },
  {
   "cell_type": "code",
   "execution_count": 36,
   "metadata": {},
   "outputs": [],
   "source": [
    "from sklearn.preprocessing import StandardScaler\n",
    "scaler = StandardScaler()\n",
    "scaler.fit(X_train)\n",
    "X_train = scaler.transform(X_train) # tableau de tableaux\n",
    "X_test = scaler.transform(X_test) # tableau de tableaux"
   ]
  },
  {
   "cell_type": "markdown",
   "metadata": {},
   "source": [
    "## 4. Train or fit the data into a model using the Support Vector Machine Algorithm and test it."
   ]
  },
  {
   "cell_type": "code",
   "execution_count": 37,
   "metadata": {},
   "outputs": [],
   "source": [
    "from sklearn import svm, linear_model\n",
    "from sklearn.model_selection import cross_val_score\n",
    "from sklearn.neighbors import KNeighborsRegressor\n",
    "from sklearn.model_selection import GridSearchCV\n",
    "from sklearn.ensemble import RandomForestRegressor\n",
    "\n",
    "import numpy as np\n",
    "import pandas as pd\n"
   ]
  },
  {
   "cell_type": "markdown",
   "metadata": {},
   "source": [
    "### Regression Linéaire"
   ]
  },
  {
   "cell_type": "code",
   "execution_count": 38,
   "metadata": {},
   "outputs": [
    {
     "name": "stdout",
     "output_type": "stream",
     "text": [
      "[0.75521208 0.76855682 0.68246401 0.64043696 0.68384235]\n",
      "70.61 de précision avec un écart type de 4.83\n",
      "\n",
      " 73.9\n"
     ]
    }
   ],
   "source": [
    "regr = linear_model.LinearRegression()\n",
    "score = cross_val_score(regr, X_train, Y_train, n_jobs=-1)\n",
    "print(score)\n",
    "print(\"%0.2f de précision avec un écart type de %0.2f\" % (score.mean()*100, score.std()*100))\n",
    "\n",
    "regr.fit(X_train, Y_train)\n",
    "acc_regr = round(regr.score(X_train, Y_train) * 100, 2)\n",
    "print(\"\\n\",acc_regr)"
   ]
  },
  {
   "cell_type": "markdown",
   "metadata": {},
   "source": [
    "#### La Cross-Validation est une méthode permettant de tester les performances d'un modèle prédictif de Machine Learning. Le processus de validation consiste à décider si les résultats numériques quantifiant les relations hypothétiques entre les variables sont acceptables en tant que descriptions des données"
   ]
  },
  {
   "cell_type": "markdown",
   "metadata": {},
   "source": [
    "### SVM"
   ]
  },
  {
   "cell_type": "code",
   "execution_count": 39,
   "metadata": {},
   "outputs": [
    {
     "name": "stdout",
     "output_type": "stream",
     "text": [
      "[0.73764932 0.72534818 0.77419145 0.58426877 0.62881619]\n",
      "69.01 de précision avec un écart type de 7.15\n",
      "\n",
      " 70.21\n"
     ]
    }
   ],
   "source": [
    "svm_method = svm.SVR(kernel='linear')\n",
    "score2 = cross_val_score(svm_method, X_train, Y_train, n_jobs=-1)\n",
    "print(score2)\n",
    "print(\"%0.2f de précision avec un écart type de %0.2f\" % (score2.mean()*100, score2.std()*100))\n",
    "\n",
    "svm_method.fit(X_train, Y_train)\n",
    "acc_svm_method = round(svm_method.score(X_train, Y_train) * 100, 2)\n",
    "print(\"\\n\",acc_svm_method)"
   ]
  },
  {
   "cell_type": "markdown",
   "metadata": {},
   "source": [
    "## 5. Select best hyperparameters of the model using GridSearch."
   ]
  },
  {
   "cell_type": "code",
   "execution_count": 40,
   "metadata": {},
   "outputs": [
    {
     "name": "stdout",
     "output_type": "stream",
     "text": [
      "Best score:  0.690054780941772\n",
      "Best parameters:  {'gamma': 0.02}\n",
      "Best estimator:  SVR(gamma=0.02, kernel='linear')\n",
      "\n",
      " 70.21\n"
     ]
    }
   ],
   "source": [
    "# defining parameter range\n",
    "parameters = {'gamma': [0.02,0.025,0.04]}\n",
    "grid= GridSearchCV(svm_method, parameters, n_jobs = -1, cv=5)\n",
    "\n",
    "# fitting the model for grid search\n",
    "grid.fit(X_train, Y_train)\n",
    "\n",
    "\n",
    "print(\"Best score: \", grid.best_score_)\n",
    "# print best parameter after tuning\n",
    "print(\"Best parameters: \", grid.best_params_)\n",
    "# print how our model looks after hyper-parameter tuning\n",
    "print(\"Best estimator: \", grid.best_estimator_)\n",
    "acc = round(grid.score(X_train, Y_train) * 100, 2)\n",
    "print(\"\\n\",acc)"
   ]
  },
  {
   "cell_type": "code",
   "execution_count": 41,
   "metadata": {},
   "outputs": [
    {
     "name": "stdout",
     "output_type": "stream",
     "text": [
      "Best score:  0.6909585849706632\n",
      "Best parameters:  {'C': 10, 'gamma': 0.037}\n",
      "Best estimator:  SVR(C=10, gamma=0.037, kernel='linear')\n",
      "\n",
      " 70.23\n"
     ]
    }
   ],
   "source": [
    "parameters = {'C': [1.5,10,100],\n",
    "            'gamma' : [0.0370, 0.0375,0.5]}\n",
    "grid= GridSearchCV(svm_method, parameters, n_jobs = -1)\n",
    "grid.fit(X_train, Y_train)\n",
    "\n",
    "print(\"Best score: \", grid.best_score_)\n",
    "# print best parameter after tuning\n",
    "print(\"Best parameters: \", grid.best_params_)\n",
    "# print how our model looks after hyper-parameter tuning\n",
    "print(\"Best estimator: \", grid.best_estimator_)\n",
    "\n",
    "acc = round(grid.score(X_train, Y_train) * 100, 2)\n",
    "print(\"\\n\",acc)"
   ]
  },
  {
   "cell_type": "code",
   "execution_count": 42,
   "metadata": {},
   "outputs": [
    {
     "name": "stdout",
     "output_type": "stream",
     "text": [
      "Best score:  0.8008900224345952\n",
      "Best parameters:  {'C': 10, 'degree': 0.2, 'gamma': 0.037, 'kernel': 'rbf'}\n",
      "Best estimator:  SVR(C=10, degree=0.2, gamma=0.037)\n",
      "\n",
      " 85.04\n"
     ]
    }
   ],
   "source": [
    "parameters = {'C': [2.5, 3, 4, 10],\n",
    "            'kernel' :['rbf', 'poly', 'sigmoid'],\n",
    "            'degree': [0.2, 1, 3, 5],\n",
    "            'gamma' : [0.0370, 0.0375,0.5]}\n",
    "grid= GridSearchCV(svm_method, parameters, n_jobs = -1)\n",
    "grid.fit(X_train, Y_train)\n",
    "\n",
    "print(\"Best score: \", grid.best_score_)\n",
    "# print best parameter after tuning\n",
    "print(\"Best parameters: \", grid.best_params_)\n",
    "# print how our model looks after hyper-parameter tuning\n",
    "print(\"Best estimator: \", grid.best_estimator_)\n",
    "\n",
    "acc = round(grid.score(X_train, Y_train) * 100, 2)\n",
    "print(\"\\n\",acc)"
   ]
  },
  {
   "cell_type": "code",
   "execution_count": 43,
   "metadata": {},
   "outputs": [
    {
     "name": "stdout",
     "output_type": "stream",
     "text": [
      "Best score:  0.7871645387559452\n",
      "Best parameters:  {'C': 7, 'degree': 1, 'gamma': 0.05, 'kernel': 'rbf'}\n",
      "Best estimator:  SVR(C=7, degree=1, gamma=0.05)\n",
      "\n",
      " 84.48\n"
     ]
    }
   ],
   "source": [
    "parameters = {'C': [4, 5, 6, 7],\n",
    "            'kernel' :['rbf'],\n",
    "            'degree': [1, 2, 3],\n",
    "            'gamma' : [0.03, 0.05,0.07]}\n",
    "grid= GridSearchCV(svm_method, parameters, n_jobs = -1)\n",
    "grid.fit(X_train, Y_train)\n",
    "\n",
    "print(\"Best score: \", grid.best_score_)\n",
    "# print best parameter after tuning\n",
    "print(\"Best parameters: \", grid.best_params_)\n",
    "# print how our model looks after hyper-parameter tuning\n",
    "print(\"Best estimator: \", grid.best_estimator_)\n",
    "\n",
    "acc = round(grid.score(X_train, Y_train) * 100, 2)\n",
    "print(\"\\n\",acc)"
   ]
  },
  {
   "cell_type": "code",
   "execution_count": 44,
   "metadata": {},
   "outputs": [
    {
     "name": "stdout",
     "output_type": "stream",
     "text": [
      "Best score:  0.8208819730514822\n",
      "Best parameters:  {'C': 30, 'degree': 1, 'epsilon': 0.15, 'gamma': 0.03, 'kernel': 'rbf'}\n",
      "Best estimator:  SVR(C=30, degree=1, epsilon=0.15, gamma=0.03)\n",
      "\n",
      " 88.26\n"
     ]
    }
   ],
   "source": [
    "parameters = {'C': [10, 15, 20, 30],\n",
    "            'kernel' :['rbf'],\n",
    "            'gamma': [0.03],\n",
    "            'epsilon' : [0.01, 0.05,0.15],\n",
    "            \"degree\": [1, 2]}\n",
    "grid= GridSearchCV(svm_method, parameters, n_jobs = -1)\n",
    "grid.fit(X_train, Y_train)\n",
    "\n",
    "print(\"Best score: \", grid.best_score_)\n",
    "# print best parameter after tuning\n",
    "print(\"Best parameters: \", grid.best_params_)\n",
    "# print how our model looks after hyper-parameter tuning\n",
    "print(\"Best estimator: \", grid.best_estimator_)\n",
    "\n",
    "acc = round(grid.score(X_train, Y_train) * 100, 2)\n",
    "print(\"\\n\",acc)"
   ]
  },
  {
   "cell_type": "code",
   "execution_count": 45,
   "metadata": {},
   "outputs": [
    {
     "name": "stdout",
     "output_type": "stream",
     "text": [
      "Best score:  0.8348362788071176\n",
      "Best parameters:  {'C': 45, 'degree': 1, 'epsilon': 0.01, 'gamma': 0.05, 'kernel': 'rbf'}\n",
      "Best estimator:  SVR(C=45, degree=1, epsilon=0.01, gamma=0.05)\n",
      "\n",
      " 92.39\n"
     ]
    }
   ],
   "source": [
    "parameters = {'C': [45, 40, 35, 30],\n",
    "            'kernel' :['rbf'],\n",
    "            'gamma': [0.03, 0.05],\n",
    "            'epsilon' : [0.01, 0.02, 0.03],\n",
    "            \"degree\": [1]}\n",
    "grid= GridSearchCV(svm_method, parameters, n_jobs = -1)\n",
    "grid.fit(X_train, Y_train)\n",
    "\n",
    "print(\"Best score: \", grid.best_score_)\n",
    "# print best parameter after tuning\n",
    "print(\"Best parameters: \", grid.best_params_)\n",
    "# print how our model looks after hyper-parameter tuning\n",
    "print(\"Best estimator: \", grid.best_estimator_)\n",
    "\n",
    "acc = round(grid.score(X_train, Y_train) * 100, 2)\n",
    "print(\"\\n\",acc)"
   ]
  },
  {
   "cell_type": "markdown",
   "metadata": {},
   "source": [
    "## 6. Create a function to test the different hyperparameters."
   ]
  },
  {
   "cell_type": "markdown",
   "metadata": {},
   "source": [
    "## 7. Train or fit the data using other algorithms.\n"
   ]
  },
  {
   "cell_type": "markdown",
   "metadata": {},
   "source": [
    "### KNN"
   ]
  },
  {
   "cell_type": "code",
   "execution_count": 46,
   "metadata": {},
   "outputs": [
    {
     "name": "stdout",
     "output_type": "stream",
     "text": [
      "88.84\n",
      "[0.80064301 0.5919545  0.76051082 0.66159905 0.74193028]\n",
      "71.13 de précision avec un écart type de 7.49\n"
     ]
    }
   ],
   "source": [
    "knn_regression = KNeighborsRegressor(n_neighbors=3)\n",
    "knn_regression.fit(X_train, Y_train)\n",
    "Y_pred= knn_regression.predict(X_test)\n",
    "acc_knn_regression = round(knn_regression.score(X_train, Y_train) * 100, 2)\n",
    "print(acc_knn_regression)\n",
    "\n",
    "score3 = cross_val_score(knn_regression, X_train, Y_train, n_jobs=-1)\n",
    "print(score3)\n",
    "\n",
    "print(\"%0.2f de précision avec un écart type de %0.2f\" % (score3.mean()*100, score3.std()*100))\n"
   ]
  },
  {
   "cell_type": "markdown",
   "metadata": {},
   "source": [
    "### XGBoost for Regression"
   ]
  },
  {
   "cell_type": "code",
   "execution_count": 47,
   "metadata": {},
   "outputs": [],
   "source": [
    "# import numpy as np\n",
    "# import xgboost as xg\n",
    "# from sklearn.metrics import mean_squared_error as MSE\n",
    "  \n",
    "# # Instantiation\n",
    "# xgb_r = xg.XGBRegressor(objective ='reg:linear', n_estimators = 10, seed = 123)\n",
    "  \n",
    "# # Fitting the model\n",
    "# xgb_r.fit(X_train, Y_train)\n",
    "  \n",
    "# # Predict the model\n",
    "# pred = xgb_r.predict(X_test)\n",
    "  \n",
    "# # RMSE Computation\n",
    "# rmse = np.sqrt(MSE(Y_test, pred))\n",
    "# print(\"RMSE : % f\" %(rmse))"
   ]
  },
  {
   "cell_type": "markdown",
   "metadata": {},
   "source": [
    "### Random Forest Regressor"
   ]
  },
  {
   "cell_type": "code",
   "execution_count": 48,
   "metadata": {},
   "outputs": [
    {
     "name": "stdout",
     "output_type": "stream",
     "text": [
      "98.26\n"
     ]
    }
   ],
   "source": [
    "randomForestModel = RandomForestRegressor(n_estimators = 100, random_state = 0)\n",
    "randomForestModel.fit(X_train, Y_train)\n",
    "\n",
    "acc_randomForest = round(randomForestModel.score(X_train, Y_train) * 100, 2)\n",
    "print(acc_randomForest)"
   ]
  },
  {
   "cell_type": "markdown",
   "metadata": {},
   "source": [
    "## 8. Compare the performance of the different algorithms. Which is the best Model?"
   ]
  },
  {
   "cell_type": "code",
   "execution_count": 49,
   "metadata": {},
   "outputs": [
    {
     "data": {
      "text/html": [
       "<div>\n",
       "<style scoped>\n",
       "    .dataframe tbody tr th:only-of-type {\n",
       "        vertical-align: middle;\n",
       "    }\n",
       "\n",
       "    .dataframe tbody tr th {\n",
       "        vertical-align: top;\n",
       "    }\n",
       "\n",
       "    .dataframe thead th {\n",
       "        text-align: right;\n",
       "    }\n",
       "</style>\n",
       "<table border=\"1\" class=\"dataframe\">\n",
       "  <thead>\n",
       "    <tr style=\"text-align: right;\">\n",
       "      <th></th>\n",
       "      <th>Model</th>\n",
       "    </tr>\n",
       "    <tr>\n",
       "      <th>Score</th>\n",
       "      <th></th>\n",
       "    </tr>\n",
       "  </thead>\n",
       "  <tbody>\n",
       "    <tr>\n",
       "      <th>98.26</th>\n",
       "      <td>Random Forest</td>\n",
       "    </tr>\n",
       "    <tr>\n",
       "      <th>88.84</th>\n",
       "      <td>Knn Regression</td>\n",
       "    </tr>\n",
       "    <tr>\n",
       "      <th>73.90</th>\n",
       "      <td>Linear Regression</td>\n",
       "    </tr>\n",
       "    <tr>\n",
       "      <th>70.21</th>\n",
       "      <td>Support Vector Machines</td>\n",
       "    </tr>\n",
       "  </tbody>\n",
       "</table>\n",
       "</div>"
      ],
      "text/plain": [
       "                         Model\n",
       "Score                         \n",
       "98.26            Random Forest\n",
       "88.84           Knn Regression\n",
       "73.90        Linear Regression\n",
       "70.21  Support Vector Machines"
      ]
     },
     "execution_count": 49,
     "metadata": {},
     "output_type": "execute_result"
    }
   ],
   "source": [
    "results = pd.DataFrame({\n",
    "    'Model': ['Support Vector Machines', 'Linear Regression', 'Knn Regression', \n",
    "              'Random Forest'],\n",
    "    'Score': [acc_svm_method, acc_regr, acc_knn_regression, \n",
    "              acc_randomForest]})\n",
    "result_df = results.sort_values(by='Score', ascending=False)\n",
    "result_df = result_df.set_index('Score')\n",
    "result_df.head()\n"
   ]
  },
  {
   "cell_type": "markdown",
   "metadata": {},
   "source": [
    "Here the best algorithm is the random forest regressor algorithm. It has 83% accuracy with 0.05 standars deviation."
   ]
  },
  {
   "cell_type": "markdown",
   "metadata": {},
   "source": [
    "# Exercice 2"
   ]
  },
  {
   "cell_type": "markdown",
   "metadata": {},
   "source": [
    "## 1. Load and return the dataset titanic from Seaborn library."
   ]
  },
  {
   "cell_type": "markdown",
   "metadata": {},
   "source": [
    "### Import libraries"
   ]
  },
  {
   "cell_type": "code",
   "execution_count": 50,
   "metadata": {},
   "outputs": [],
   "source": [
    "import seaborn as sns\n",
    "import matplotlib.pyplot as plt\n",
    "import numpy as np\n",
    "import pandas as pd"
   ]
  },
  {
   "cell_type": "markdown",
   "metadata": {},
   "source": [
    "### Loading the dataset"
   ]
  },
  {
   "cell_type": "code",
   "execution_count": 51,
   "metadata": {},
   "outputs": [],
   "source": [
    "titanic = sns.load_dataset('titanic') # train df"
   ]
  },
  {
   "cell_type": "code",
   "execution_count": 68,
   "metadata": {},
   "outputs": [],
   "source": [
    "test_df = pd.read_csv(\"titanic_test.csv\")"
   ]
  },
  {
   "cell_type": "markdown",
   "metadata": {},
   "source": [
    "### 1st view of the dataset"
   ]
  },
  {
   "cell_type": "code",
   "execution_count": 69,
   "metadata": {},
   "outputs": [
    {
     "name": "stdout",
     "output_type": "stream",
     "text": [
      "<class 'pandas.core.frame.DataFrame'>\n",
      "RangeIndex: 891 entries, 0 to 890\n",
      "Data columns (total 15 columns):\n",
      " #   Column       Non-Null Count  Dtype   \n",
      "---  ------       --------------  -----   \n",
      " 0   survived     891 non-null    int64   \n",
      " 1   pclass       891 non-null    int64   \n",
      " 2   sex          891 non-null    object  \n",
      " 3   age          714 non-null    float64 \n",
      " 4   sibsp        891 non-null    int64   \n",
      " 5   parch        891 non-null    int64   \n",
      " 6   fare         891 non-null    float64 \n",
      " 7   embarked     889 non-null    object  \n",
      " 8   class        891 non-null    category\n",
      " 9   who          891 non-null    object  \n",
      " 10  adult_male   891 non-null    bool    \n",
      " 11  deck         203 non-null    category\n",
      " 12  embark_town  889 non-null    object  \n",
      " 13  alive        891 non-null    object  \n",
      " 14  alone        891 non-null    bool    \n",
      "dtypes: bool(2), category(2), float64(2), int64(4), object(5)\n",
      "memory usage: 80.7+ KB\n"
     ]
    }
   ],
   "source": [
    "titanic.info()"
   ]
  },
  {
   "cell_type": "code",
   "execution_count": 53,
   "metadata": {},
   "outputs": [
    {
     "data": {
      "text/html": [
       "<div>\n",
       "<style scoped>\n",
       "    .dataframe tbody tr th:only-of-type {\n",
       "        vertical-align: middle;\n",
       "    }\n",
       "\n",
       "    .dataframe tbody tr th {\n",
       "        vertical-align: top;\n",
       "    }\n",
       "\n",
       "    .dataframe thead th {\n",
       "        text-align: right;\n",
       "    }\n",
       "</style>\n",
       "<table border=\"1\" class=\"dataframe\">\n",
       "  <thead>\n",
       "    <tr style=\"text-align: right;\">\n",
       "      <th></th>\n",
       "      <th>survived</th>\n",
       "      <th>pclass</th>\n",
       "      <th>sex</th>\n",
       "      <th>age</th>\n",
       "      <th>sibsp</th>\n",
       "      <th>parch</th>\n",
       "      <th>fare</th>\n",
       "      <th>embarked</th>\n",
       "      <th>class</th>\n",
       "      <th>who</th>\n",
       "      <th>adult_male</th>\n",
       "      <th>deck</th>\n",
       "      <th>embark_town</th>\n",
       "      <th>alive</th>\n",
       "      <th>alone</th>\n",
       "    </tr>\n",
       "  </thead>\n",
       "  <tbody>\n",
       "    <tr>\n",
       "      <th>0</th>\n",
       "      <td>0</td>\n",
       "      <td>3</td>\n",
       "      <td>male</td>\n",
       "      <td>22.0</td>\n",
       "      <td>1</td>\n",
       "      <td>0</td>\n",
       "      <td>7.2500</td>\n",
       "      <td>S</td>\n",
       "      <td>Third</td>\n",
       "      <td>man</td>\n",
       "      <td>True</td>\n",
       "      <td>NaN</td>\n",
       "      <td>Southampton</td>\n",
       "      <td>no</td>\n",
       "      <td>False</td>\n",
       "    </tr>\n",
       "    <tr>\n",
       "      <th>1</th>\n",
       "      <td>1</td>\n",
       "      <td>1</td>\n",
       "      <td>female</td>\n",
       "      <td>38.0</td>\n",
       "      <td>1</td>\n",
       "      <td>0</td>\n",
       "      <td>71.2833</td>\n",
       "      <td>C</td>\n",
       "      <td>First</td>\n",
       "      <td>woman</td>\n",
       "      <td>False</td>\n",
       "      <td>C</td>\n",
       "      <td>Cherbourg</td>\n",
       "      <td>yes</td>\n",
       "      <td>False</td>\n",
       "    </tr>\n",
       "    <tr>\n",
       "      <th>2</th>\n",
       "      <td>1</td>\n",
       "      <td>3</td>\n",
       "      <td>female</td>\n",
       "      <td>26.0</td>\n",
       "      <td>0</td>\n",
       "      <td>0</td>\n",
       "      <td>7.9250</td>\n",
       "      <td>S</td>\n",
       "      <td>Third</td>\n",
       "      <td>woman</td>\n",
       "      <td>False</td>\n",
       "      <td>NaN</td>\n",
       "      <td>Southampton</td>\n",
       "      <td>yes</td>\n",
       "      <td>True</td>\n",
       "    </tr>\n",
       "    <tr>\n",
       "      <th>3</th>\n",
       "      <td>1</td>\n",
       "      <td>1</td>\n",
       "      <td>female</td>\n",
       "      <td>35.0</td>\n",
       "      <td>1</td>\n",
       "      <td>0</td>\n",
       "      <td>53.1000</td>\n",
       "      <td>S</td>\n",
       "      <td>First</td>\n",
       "      <td>woman</td>\n",
       "      <td>False</td>\n",
       "      <td>C</td>\n",
       "      <td>Southampton</td>\n",
       "      <td>yes</td>\n",
       "      <td>False</td>\n",
       "    </tr>\n",
       "    <tr>\n",
       "      <th>4</th>\n",
       "      <td>0</td>\n",
       "      <td>3</td>\n",
       "      <td>male</td>\n",
       "      <td>35.0</td>\n",
       "      <td>0</td>\n",
       "      <td>0</td>\n",
       "      <td>8.0500</td>\n",
       "      <td>S</td>\n",
       "      <td>Third</td>\n",
       "      <td>man</td>\n",
       "      <td>True</td>\n",
       "      <td>NaN</td>\n",
       "      <td>Southampton</td>\n",
       "      <td>no</td>\n",
       "      <td>True</td>\n",
       "    </tr>\n",
       "  </tbody>\n",
       "</table>\n",
       "</div>"
      ],
      "text/plain": [
       "   survived  pclass     sex   age  sibsp  parch     fare embarked  class  \\\n",
       "0         0       3    male  22.0      1      0   7.2500        S  Third   \n",
       "1         1       1  female  38.0      1      0  71.2833        C  First   \n",
       "2         1       3  female  26.0      0      0   7.9250        S  Third   \n",
       "3         1       1  female  35.0      1      0  53.1000        S  First   \n",
       "4         0       3    male  35.0      0      0   8.0500        S  Third   \n",
       "\n",
       "     who  adult_male deck  embark_town alive  alone  \n",
       "0    man        True  NaN  Southampton    no  False  \n",
       "1  woman       False    C    Cherbourg   yes  False  \n",
       "2  woman       False  NaN  Southampton   yes   True  \n",
       "3  woman       False    C  Southampton   yes  False  \n",
       "4    man        True  NaN  Southampton    no   True  "
      ]
     },
     "execution_count": 53,
     "metadata": {},
     "output_type": "execute_result"
    }
   ],
   "source": [
    "titanic.head()"
   ]
  },
  {
   "cell_type": "markdown",
   "metadata": {},
   "source": [
    "#### Survived 0 = dead ;  Survived 1 = alive"
   ]
  },
  {
   "cell_type": "code",
   "execution_count": 54,
   "metadata": {},
   "outputs": [
    {
     "data": {
      "text/plain": [
       "survived         0\n",
       "pclass           0\n",
       "sex              0\n",
       "age            177\n",
       "sibsp            0\n",
       "parch            0\n",
       "fare             0\n",
       "embarked         2\n",
       "class            0\n",
       "who              0\n",
       "adult_male       0\n",
       "deck           688\n",
       "embark_town      2\n",
       "alive            0\n",
       "alone            0\n",
       "dtype: int64"
      ]
     },
     "execution_count": 54,
     "metadata": {},
     "output_type": "execute_result"
    }
   ],
   "source": [
    "titanic.isnull().sum()\n"
   ]
  },
  {
   "cell_type": "code",
   "execution_count": 55,
   "metadata": {},
   "outputs": [],
   "source": [
    "test_df=test_df.rename(columns={'PassengerId': 'passengerId','Pclass':'pclass', 'Age':'age','SibSp':'sibsp', 'Parch':'parch','Fare':'fare', 'Sex':'sex', \"Name\":\"name\", \"Embarked\":\"embarked\" })"
   ]
  },
  {
   "cell_type": "markdown",
   "metadata": {},
   "source": [
    "### Analyses du dataset"
   ]
  },
  {
   "cell_type": "code",
   "execution_count": 56,
   "metadata": {},
   "outputs": [
    {
     "data": {
      "text/plain": [
       "<seaborn.axisgrid.FacetGrid at 0x175c40afd60>"
      ]
     },
     "execution_count": 56,
     "metadata": {},
     "output_type": "execute_result"
    },
    {
     "data": {
      "image/png": "[encoded data removed]",
      "text/plain": [
       "<Figure size 410.875x360 with 1 Axes>"
      ]
     },
     "metadata": {
      "needs_background": "light"
     },
     "output_type": "display_data"
    }
   ],
   "source": [
    "sns.catplot(x =\"sex\", hue =\"survived\", kind =\"count\", data = titanic)"
   ]
  },
  {
   "cell_type": "markdown",
   "metadata": {},
   "source": [
    "#### The survival rate of men is around 20% and that of women is around 75%. Therefore, whether a passenger is a male or a female plays an important role in determining if one is going to survive."
   ]
  },
  {
   "cell_type": "code",
   "execution_count": 57,
   "metadata": {},
   "outputs": [
    {
     "data": {
      "text/plain": [
       "<AxesSubplot:xlabel='survived', ylabel='pclass'>"
      ]
     },
     "execution_count": 57,
     "metadata": {},
     "output_type": "execute_result"
    },
    {
     "data": {
      "image/png": "[encoded data removed]",
      "text/plain": [
       "<Figure size 432x288 with 2 Axes>"
      ]
     },
     "metadata": {
      "needs_background": "light"
     },
     "output_type": "display_data"
    }
   ],
   "source": [
    "group = titanic.groupby(['pclass', 'survived'])\n",
    "pclass_survived = group.size().unstack()\n",
    " \n",
    "sns.heatmap(pclass_survived, annot = True, fmt =\"d\")"
   ]
  },
  {
   "cell_type": "markdown",
   "metadata": {},
   "source": [
    "#### Class 1 passengers have a higher survival chance compared to classes 2 and 3. It implies that Pclass contributes a lot to a passenger’s survival rate"
   ]
  },
  {
   "cell_type": "markdown",
   "metadata": {},
   "source": [
    "#### seaborn.violinplot(*, x=None, y=None, hue=None, data=None, order=None, hue_order=None, bw='scott', cut=2, scale='area', scale_hue=True, gridsize=100, width=0.8, inner='box', split=False, dodge=True, orient=None, linewidth=None, color=None, palette=None, saturation=0.75, ax=None)\n",
    "#### Draw a combination of boxplot and kernel density estimate.\n",
    "\n",
    "#### A violin plot plays a similar role as a box and whisker plot. It shows the distribution of quantitative data across several levels of one (or more) categorical variables such that those distributions can be compared. Unlike a box plot, in which all of the plot components correspond to actual datapoints, the violin plot features a kernel density estimation of the underlying distribution."
   ]
  },
  {
   "cell_type": "code",
   "execution_count": 62,
   "metadata": {},
   "outputs": [
    {
     "data": {
      "text/plain": [
       "<AxesSubplot:xlabel='pclass', ylabel='survived'>"
      ]
     },
     "execution_count": 62,
     "metadata": {},
     "output_type": "execute_result"
    },
    {
     "data": {
      "image/png": "[encoded data removed]",
      "text/plain": [
       "<Figure size 432x288 with 1 Axes>"
      ]
     },
     "metadata": {
      "needs_background": "light"
     },
     "output_type": "display_data"
    }
   ],
   "source": [
    "sns.barplot(x='pclass', y='survived', data= titanic)"
   ]
  },
  {
   "cell_type": "code",
   "execution_count": 58,
   "metadata": {},
   "outputs": [
    {
     "data": {
      "text/plain": [
       "<AxesSubplot:xlabel='sex', ylabel='age'>"
      ]
     },
     "execution_count": 58,
     "metadata": {},
     "output_type": "execute_result"
    },
    {
     "data": {
      "image/png": "[encoded data removed]",
      "text/plain": [
       "<Figure size 432x288 with 1 Axes>"
      ]
     },
     "metadata": {
      "needs_background": "light"
     },
     "output_type": "display_data"
    }
   ],
   "source": [
    "sns.violinplot(x =\"sex\", y =\"age\", hue =\"survived\", data = titanic, split = True)"
   ]
  },
  {
   "cell_type": "code",
   "execution_count": 66,
   "metadata": {},
   "outputs": [
    {
     "name": "stderr",
     "output_type": "stream",
     "text": [
      "C:\\Users\\julie\\anaconda3\\lib\\site-packages\\seaborn\\distributions.py:2557: FutureWarning: `distplot` is a deprecated function and will be removed in a future version. Please adapt your code to use either `displot` (a figure-level function with similar flexibility) or `histplot` (an axes-level function for histograms).\n",
      "  warnings.warn(msg, FutureWarning)\n",
      "C:\\Users\\julie\\anaconda3\\lib\\site-packages\\seaborn\\distributions.py:2557: FutureWarning: `distplot` is a deprecated function and will be removed in a future version. Please adapt your code to use either `displot` (a figure-level function with similar flexibility) or `histplot` (an axes-level function for histograms).\n",
      "  warnings.warn(msg, FutureWarning)\n",
      "C:\\Users\\julie\\anaconda3\\lib\\site-packages\\seaborn\\distributions.py:2557: FutureWarning: `distplot` is a deprecated function and will be removed in a future version. Please adapt your code to use either `displot` (a figure-level function with similar flexibility) or `histplot` (an axes-level function for histograms).\n",
      "  warnings.warn(msg, FutureWarning)\n",
      "C:\\Users\\julie\\anaconda3\\lib\\site-packages\\seaborn\\distributions.py:2557: FutureWarning: `distplot` is a deprecated function and will be removed in a future version. Please adapt your code to use either `displot` (a figure-level function with similar flexibility) or `histplot` (an axes-level function for histograms).\n",
      "  warnings.warn(msg, FutureWarning)\n"
     ]
    },
    {
     "data": {
      "image/png": "[encoded data removed]",
      "text/plain": [
       "<Figure size 720x288 with 2 Axes>"
      ]
     },
     "metadata": {
      "needs_background": "light"
     },
     "output_type": "display_data"
    }
   ],
   "source": [
    "survived = 'survived'\n",
    "not_survived = 'not survived'\n",
    "fig, axes = plt.subplots(nrows=1, ncols=2,figsize=(10, 4))\n",
    "women = titanic[titanic['sex']=='female']\n",
    "men = titanic[titanic['sex']=='male']\n",
    "ax = sns.distplot(women[women['survived']==1].age.dropna(), bins=18, label = survived, ax = axes[0], kde =False)\n",
    "ax = sns.distplot(women[women['survived']==0].age.dropna(), bins=40, label = not_survived, ax = axes[0], kde =False)\n",
    "ax.legend()\n",
    "ax.set_title('female')\n",
    "ax = sns.distplot(men[men['survived']==1].age.dropna(), bins=18, label = survived, ax = axes[1], kde = False)\n",
    "ax = sns.distplot(men[men['survived']==0].age.dropna(), bins=40, label = not_survived, ax = axes[1], kde = False)\n",
    "ax.legend()\n",
    "_ = ax.set_title('male')\n"
   ]
  },
  {
   "cell_type": "markdown",
   "metadata": {},
   "source": [
    "####  The survival rate is   \n",
    "#### - Good for children.\n",
    "#### - High for women in the age range 20-50.\n",
    "#### - Less for men as the age increases.\n",
    "#### Since Age column is important, the missing values need to be filled, either by using the Name column(ascertaining age based on salutation – Mr, Mrs etc.) or by using a regressor"
   ]
  },
  {
   "cell_type": "markdown",
   "metadata": {},
   "source": [
    "#### Pclass is contributing to a persons chance of survival, especially if this person is in class 1"
   ]
  },
  {
   "cell_type": "code",
   "execution_count": 61,
   "metadata": {},
   "outputs": [
    {
     "name": "stderr",
     "output_type": "stream",
     "text": [
      "C:\\Users\\julie\\anaconda3\\lib\\site-packages\\seaborn\\axisgrid.py:316: UserWarning: The `size` parameter has been renamed to `height`; please update your code.\n",
      "  warnings.warn(msg, UserWarning)\n"
     ]
    },
    {
     "data": {
      "text/plain": [
       "<seaborn.axisgrid.FacetGrid at 0x175c51fb2b0>"
      ]
     },
     "execution_count": 61,
     "metadata": {},
     "output_type": "execute_result"
    },
    {
     "data": {
      "image/png": "[encoded data removed]",
      "text/plain": [
       "<Figure size 588.9x972 with 3 Axes>"
      ]
     },
     "metadata": {
      "needs_background": "light"
     },
     "output_type": "display_data"
    }
   ],
   "source": [
    "FacetGrid = sns.FacetGrid(titanic, row='embarked', size=4.5, aspect=1.6)\n",
    "FacetGrid.map(sns.pointplot, 'pclass', 'survived', 'sex', palette=None,  order=None, hue_order=None )\n",
    "FacetGrid.add_legend()"
   ]
  },
  {
   "cell_type": "markdown",
   "metadata": {},
   "source": [
    "#### Embarked seems to be correlated with survival, depending on the gender."
   ]
  },
  {
   "cell_type": "markdown",
   "metadata": {},
   "source": [
    "### Filled Missing Values"
   ]
  },
  {
   "cell_type": "code",
   "execution_count": 10,
   "metadata": {},
   "outputs": [
    {
     "data": {
      "text/plain": [
       "0"
      ]
     },
     "execution_count": 10,
     "metadata": {},
     "output_type": "execute_result"
    }
   ],
   "source": [
    "data = [titanic, test_df]\n",
    "\n",
    "for dataset in data:\n",
    "    mean = titanic[\"age\"].mean()\n",
    "    std = test_df[\"age\"].std()\n",
    "    is_null = dataset[\"age\"].isnull().sum()\n",
    "    # compute random numbers between the mean, std and is_null\n",
    "    rand_age = np.random.randint(mean - std, mean + std, size = is_null)\n",
    "    # fill NaN values in Age column with random values generated\n",
    "    age_slice = dataset[\"age\"].copy()\n",
    "    age_slice[np.isnan(age_slice)] = rand_age\n",
    "    dataset[\"age\"] = age_slice\n",
    "    dataset[\"age\"] = titanic[\"age\"].astype(int)\n",
    "titanic[\"age\"].isnull().sum()"
   ]
  },
  {
   "cell_type": "code",
   "execution_count": 11,
   "metadata": {},
   "outputs": [],
   "source": [
    "common_value = 'S'\n",
    "for dataset in titanic:\n",
    "    titanic['embarked'] = titanic['embarked'].fillna(common_value)\n",
    "for dataset in test_df:\n",
    "    test_df['embarked'] = test_df['embarked'].fillna(common_value)"
   ]
  },
  {
   "cell_type": "code",
   "execution_count": 12,
   "metadata": {},
   "outputs": [],
   "source": [
    "ports = {\"S\": 0, \"C\": 1, \"Q\": 2}\n",
    "data = [titanic, test_df]\n",
    "\n",
    "for dataset in data:\n",
    "    dataset['embarked'] = dataset['embarked'].map(ports)"
   ]
  },
  {
   "cell_type": "code",
   "execution_count": 13,
   "metadata": {},
   "outputs": [],
   "source": [
    "for dataset in data:\n",
    "    dataset['fare'] = dataset['fare'].fillna(0)\n",
    "    dataset['fare'] = dataset['fare'].astype(int)"
   ]
  },
  {
   "cell_type": "markdown",
   "metadata": {},
   "source": [
    "### Changing string to int : male=0 female=1"
   ]
  },
  {
   "cell_type": "code",
   "execution_count": 14,
   "metadata": {},
   "outputs": [],
   "source": [
    "genders = {\"male\": 0, \"female\": 1}\n",
    "titanic['sex'] = titanic['sex'].map(genders)\n"
   ]
  },
  {
   "cell_type": "code",
   "execution_count": 15,
   "metadata": {},
   "outputs": [],
   "source": [
    "genders = {\"male\": 0, \"female\": 1}\n",
    "test_df['sex'] = test_df['sex'].map(genders)"
   ]
  },
  {
   "cell_type": "markdown",
   "metadata": {},
   "source": [
    "### Correlation"
   ]
  },
  {
   "cell_type": "code",
   "execution_count": 16,
   "metadata": {},
   "outputs": [
    {
     "data": {
      "text/html": [
       "<style  type=\"text/css\" >\n",
       "#T_44771_row0_col0,#T_44771_row1_col1,#T_44771_row2_col2,#T_44771_row3_col3,#T_44771_row4_col4,#T_44771_row5_col5,#T_44771_row6_col6,#T_44771_row7_col7,#T_44771_row8_col8,#T_44771_row9_col9{\n",
       "            background-color:  #b40426;\n",
       "            color:  #f1f1f1;\n",
       "        }#T_44771_row0_col1,#T_44771_row1_col0,#T_44771_row1_col7{\n",
       "            background-color:  #6687ed;\n",
       "            color:  #000000;\n",
       "        }#T_44771_row0_col2{\n",
       "            background-color:  #f39577;\n",
       "            color:  #000000;\n",
       "        }#T_44771_row0_col3,#T_44771_row2_col3,#T_44771_row6_col9{\n",
       "            background-color:  #7a9df8;\n",
       "            color:  #000000;\n",
       "        }#T_44771_row0_col4{\n",
       "            background-color:  #aec9fc;\n",
       "            color:  #000000;\n",
       "        }#T_44771_row0_col5,#T_44771_row1_col4,#T_44771_row7_col8{\n",
       "            background-color:  #c6d6f1;\n",
       "            color:  #000000;\n",
       "        }#T_44771_row0_col6,#T_44771_row6_col0{\n",
       "            background-color:  #e2dad5;\n",
       "            color:  #000000;\n",
       "        }#T_44771_row0_col7{\n",
       "            background-color:  #799cf8;\n",
       "            color:  #000000;\n",
       "        }#T_44771_row0_col8{\n",
       "            background-color:  #7699f6;\n",
       "            color:  #000000;\n",
       "        }#T_44771_row0_col9{\n",
       "            background-color:  #89acfd;\n",
       "            color:  #000000;\n",
       "        }#T_44771_row1_col2,#T_44771_row4_col1{\n",
       "            background-color:  #c3d5f4;\n",
       "            color:  #000000;\n",
       "        }#T_44771_row1_col3,#T_44771_row1_col6,#T_44771_row2_col8,#T_44771_row4_col9,#T_44771_row5_col9,#T_44771_row6_col1,#T_44771_row8_col0,#T_44771_row8_col2,#T_44771_row8_col7,#T_44771_row9_col4,#T_44771_row9_col5{\n",
       "            background-color:  #3b4cc0;\n",
       "            color:  #f1f1f1;\n",
       "        }#T_44771_row1_col5,#T_44771_row6_col8,#T_44771_row7_col9{\n",
       "            background-color:  #bad0f8;\n",
       "            color:  #000000;\n",
       "        }#T_44771_row1_col8,#T_44771_row2_col5{\n",
       "            background-color:  #e3d9d3;\n",
       "            color:  #000000;\n",
       "        }#T_44771_row1_col9{\n",
       "            background-color:  #d1dae9;\n",
       "            color:  #000000;\n",
       "        }#T_44771_row2_col0{\n",
       "            background-color:  #f7aa8c;\n",
       "            color:  #000000;\n",
       "        }#T_44771_row2_col1{\n",
       "            background-color:  #94b6ff;\n",
       "            color:  #000000;\n",
       "        }#T_44771_row2_col4{\n",
       "            background-color:  #ccd9ed;\n",
       "            color:  #000000;\n",
       "        }#T_44771_row2_col6{\n",
       "            background-color:  #d6dce4;\n",
       "            color:  #000000;\n",
       "        }#T_44771_row2_col7{\n",
       "            background-color:  #7b9ff9;\n",
       "            color:  #000000;\n",
       "        }#T_44771_row2_col9,#T_44771_row9_col6{\n",
       "            background-color:  #7396f5;\n",
       "            color:  #000000;\n",
       "        }#T_44771_row3_col0,#T_44771_row7_col5,#T_44771_row9_col2{\n",
       "            background-color:  #a5c3fe;\n",
       "            color:  #000000;\n",
       "        }#T_44771_row3_col1,#T_44771_row8_col5{\n",
       "            background-color:  #688aef;\n",
       "            color:  #000000;\n",
       "        }#T_44771_row3_col2,#T_44771_row9_col1{\n",
       "            background-color:  #cdd9ec;\n",
       "            color:  #000000;\n",
       "        }#T_44771_row3_col4,#T_44771_row9_col0{\n",
       "            background-color:  #85a8fc;\n",
       "            color:  #000000;\n",
       "        }#T_44771_row3_col5{\n",
       "            background-color:  #90b2fe;\n",
       "            color:  #000000;\n",
       "        }#T_44771_row3_col6,#T_44771_row5_col0,#T_44771_row8_col3{\n",
       "            background-color:  #c4d5f3;\n",
       "            color:  #000000;\n",
       "        }#T_44771_row3_col7,#T_44771_row5_col3,#T_44771_row9_col7{\n",
       "            background-color:  #5e7de7;\n",
       "            color:  #000000;\n",
       "        }#T_44771_row3_col8{\n",
       "            background-color:  #f1cdba;\n",
       "            color:  #000000;\n",
       "        }#T_44771_row3_col9,#T_44771_row6_col4{\n",
       "            background-color:  #d5dbe5;\n",
       "            color:  #000000;\n",
       "        }#T_44771_row4_col0{\n",
       "            background-color:  #aac7fd;\n",
       "            color:  #000000;\n",
       "        }#T_44771_row4_col2,#T_44771_row7_col2{\n",
       "            background-color:  #e6d7cf;\n",
       "            color:  #000000;\n",
       "        }#T_44771_row4_col3{\n",
       "            background-color:  #516ddb;\n",
       "            color:  #000000;\n",
       "        }#T_44771_row4_col5,#T_44771_row5_col4{\n",
       "            background-color:  #f5c2aa;\n",
       "            color:  #000000;\n",
       "        }#T_44771_row4_col6{\n",
       "            background-color:  #d2dbe8;\n",
       "            color:  #000000;\n",
       "        }#T_44771_row4_col7{\n",
       "            background-color:  #485fd1;\n",
       "            color:  #f1f1f1;\n",
       "        }#T_44771_row4_col8{\n",
       "            background-color:  #adc9fd;\n",
       "            color:  #000000;\n",
       "        }#T_44771_row5_col1,#T_44771_row9_col3{\n",
       "            background-color:  #b5cdfa;\n",
       "            color:  #000000;\n",
       "        }#T_44771_row5_col2{\n",
       "            background-color:  #f2cab5;\n",
       "            color:  #000000;\n",
       "        }#T_44771_row5_col6{\n",
       "            background-color:  #dbdcde;\n",
       "            color:  #000000;\n",
       "        }#T_44771_row5_col7{\n",
       "            background-color:  #4257c9;\n",
       "            color:  #f1f1f1;\n",
       "        }#T_44771_row5_col8{\n",
       "            background-color:  #9bbcff;\n",
       "            color:  #000000;\n",
       "        }#T_44771_row6_col2{\n",
       "            background-color:  #edd1c2;\n",
       "            color:  #000000;\n",
       "        }#T_44771_row6_col3{\n",
       "            background-color:  #a2c1ff;\n",
       "            color:  #000000;\n",
       "        }#T_44771_row6_col5{\n",
       "            background-color:  #dedcdb;\n",
       "            color:  #000000;\n",
       "        }#T_44771_row6_col7{\n",
       "            background-color:  #6b8df0;\n",
       "            color:  #000000;\n",
       "        }#T_44771_row7_col0{\n",
       "            background-color:  #c9d7f0;\n",
       "            color:  #000000;\n",
       "        }#T_44771_row7_col1{\n",
       "            background-color:  #bbd1f8;\n",
       "            color:  #000000;\n",
       "        }#T_44771_row7_col3{\n",
       "            background-color:  #8fb1fe;\n",
       "            color:  #000000;\n",
       "        }#T_44771_row7_col4{\n",
       "            background-color:  #a9c6fd;\n",
       "            color:  #000000;\n",
       "        }#T_44771_row7_col6{\n",
       "            background-color:  #bed2f6;\n",
       "            color:  #000000;\n",
       "        }#T_44771_row8_col1{\n",
       "            background-color:  #c5d6f2;\n",
       "            color:  #000000;\n",
       "        }#T_44771_row8_col4{\n",
       "            background-color:  #7ea1fa;\n",
       "            color:  #000000;\n",
       "        }#T_44771_row8_col6{\n",
       "            background-color:  #88abfd;\n",
       "            color:  #000000;\n",
       "        }#T_44771_row8_col9{\n",
       "            background-color:  #f4c5ad;\n",
       "            color:  #000000;\n",
       "        }#T_44771_row9_col8{\n",
       "            background-color:  #f7b093;\n",
       "            color:  #000000;\n",
       "        }</style><table id=\"T_44771_\" ><thead>    <tr>        <th class=\"blank level0\" ></th>        <th class=\"col_heading level0 col0\" >survived</th>        <th class=\"col_heading level0 col1\" >pclass</th>        <th class=\"col_heading level0 col2\" >sex</th>        <th class=\"col_heading level0 col3\" >age</th>        <th class=\"col_heading level0 col4\" >sibsp</th>        <th class=\"col_heading level0 col5\" >parch</th>        <th class=\"col_heading level0 col6\" >fare</th>        <th class=\"col_heading level0 col7\" >embarked</th>        <th class=\"col_heading level0 col8\" >adult_male</th>        <th class=\"col_heading level0 col9\" >alone</th>    </tr></thead><tbody>\n",
       "                <tr>\n",
       "                        <th id=\"T_44771_level0_row0\" class=\"row_heading level0 row0\" >survived</th>\n",
       "                        <td id=\"T_44771_row0_col0\" class=\"data row0 col0\" >1.000000</td>\n",
       "                        <td id=\"T_44771_row0_col1\" class=\"data row0 col1\" >-0.338481</td>\n",
       "                        <td id=\"T_44771_row0_col2\" class=\"data row0 col2\" >0.543351</td>\n",
       "                        <td id=\"T_44771_row0_col3\" class=\"data row0 col3\" >-0.062775</td>\n",
       "                        <td id=\"T_44771_row0_col4\" class=\"data row0 col4\" >-0.035322</td>\n",
       "                        <td id=\"T_44771_row0_col5\" class=\"data row0 col5\" >0.081629</td>\n",
       "                        <td id=\"T_44771_row0_col6\" class=\"data row0 col6\" >0.257482</td>\n",
       "                        <td id=\"T_44771_row0_col7\" class=\"data row0 col7\" >0.106811</td>\n",
       "                        <td id=\"T_44771_row0_col8\" class=\"data row0 col8\" >-0.557080</td>\n",
       "                        <td id=\"T_44771_row0_col9\" class=\"data row0 col9\" >-0.203367</td>\n",
       "            </tr>\n",
       "            <tr>\n",
       "                        <th id=\"T_44771_level0_row1\" class=\"row_heading level0 row1\" >pclass</th>\n",
       "                        <td id=\"T_44771_row1_col0\" class=\"data row1 col0\" >-0.338481</td>\n",
       "                        <td id=\"T_44771_row1_col1\" class=\"data row1 col1\" >1.000000</td>\n",
       "                        <td id=\"T_44771_row1_col2\" class=\"data row1 col2\" >-0.131900</td>\n",
       "                        <td id=\"T_44771_row1_col3\" class=\"data row1 col3\" >-0.321532</td>\n",
       "                        <td id=\"T_44771_row1_col4\" class=\"data row1 col4\" >0.083081</td>\n",
       "                        <td id=\"T_44771_row1_col5\" class=\"data row1 col5\" >0.018443</td>\n",
       "                        <td id=\"T_44771_row1_col6\" class=\"data row1 col6\" >-0.550553</td>\n",
       "                        <td id=\"T_44771_row1_col7\" class=\"data row1 col7\" >0.045702</td>\n",
       "                        <td id=\"T_44771_row1_col8\" class=\"data row1 col8\" >0.094035</td>\n",
       "                        <td id=\"T_44771_row1_col9\" class=\"data row1 col9\" >0.135207</td>\n",
       "            </tr>\n",
       "            <tr>\n",
       "                        <th id=\"T_44771_level0_row2\" class=\"row_heading level0 row2\" >sex</th>\n",
       "                        <td id=\"T_44771_row2_col0\" class=\"data row2 col0\" >0.543351</td>\n",
       "                        <td id=\"T_44771_row2_col1\" class=\"data row2 col1\" >-0.131900</td>\n",
       "                        <td id=\"T_44771_row2_col2\" class=\"data row2 col2\" >1.000000</td>\n",
       "                        <td id=\"T_44771_row2_col3\" class=\"data row2 col3\" >-0.059407</td>\n",
       "                        <td id=\"T_44771_row2_col4\" class=\"data row2 col4\" >0.114631</td>\n",
       "                        <td id=\"T_44771_row2_col5\" class=\"data row2 col5\" >0.245489</td>\n",
       "                        <td id=\"T_44771_row2_col6\" class=\"data row2 col6\" >0.182331</td>\n",
       "                        <td id=\"T_44771_row2_col7\" class=\"data row2 col7\" >0.116569</td>\n",
       "                        <td id=\"T_44771_row2_col8\" class=\"data row2 col8\" >-0.908578</td>\n",
       "                        <td id=\"T_44771_row2_col9\" class=\"data row2 col9\" >-0.303646</td>\n",
       "            </tr>\n",
       "            <tr>\n",
       "                        <th id=\"T_44771_level0_row3\" class=\"row_heading level0 row3\" >age</th>\n",
       "                        <td id=\"T_44771_row3_col0\" class=\"data row3 col0\" >-0.062775</td>\n",
       "                        <td id=\"T_44771_row3_col1\" class=\"data row3 col1\" >-0.321532</td>\n",
       "                        <td id=\"T_44771_row3_col2\" class=\"data row3 col2\" >-0.059407</td>\n",
       "                        <td id=\"T_44771_row3_col3\" class=\"data row3 col3\" >1.000000</td>\n",
       "                        <td id=\"T_44771_row3_col4\" class=\"data row3 col4\" >-0.219827</td>\n",
       "                        <td id=\"T_44771_row3_col5\" class=\"data row3 col5\" >-0.170658</td>\n",
       "                        <td id=\"T_44771_row3_col6\" class=\"data row3 col6\" >0.090437</td>\n",
       "                        <td id=\"T_44771_row3_col7\" class=\"data row3 col7\" >0.017746</td>\n",
       "                        <td id=\"T_44771_row3_col8\" class=\"data row3 col8\" >0.222211</td>\n",
       "                        <td id=\"T_44771_row3_col9\" class=\"data row3 col9\" >0.159740</td>\n",
       "            </tr>\n",
       "            <tr>\n",
       "                        <th id=\"T_44771_level0_row4\" class=\"row_heading level0 row4\" >sibsp</th>\n",
       "                        <td id=\"T_44771_row4_col0\" class=\"data row4 col0\" >-0.035322</td>\n",
       "                        <td id=\"T_44771_row4_col1\" class=\"data row4 col1\" >0.083081</td>\n",
       "                        <td id=\"T_44771_row4_col2\" class=\"data row4 col2\" >0.114631</td>\n",
       "                        <td id=\"T_44771_row4_col3\" class=\"data row4 col3\" >-0.219827</td>\n",
       "                        <td id=\"T_44771_row4_col4\" class=\"data row4 col4\" >1.000000</td>\n",
       "                        <td id=\"T_44771_row4_col5\" class=\"data row4 col5\" >0.414838</td>\n",
       "                        <td id=\"T_44771_row4_col6\" class=\"data row4 col6\" >0.159506</td>\n",
       "                        <td id=\"T_44771_row4_col7\" class=\"data row4 col7\" >-0.059961</td>\n",
       "                        <td id=\"T_44771_row4_col8\" class=\"data row4 col8\" >-0.253586</td>\n",
       "                        <td id=\"T_44771_row4_col9\" class=\"data row4 col9\" >-0.584471</td>\n",
       "            </tr>\n",
       "            <tr>\n",
       "                        <th id=\"T_44771_level0_row5\" class=\"row_heading level0 row5\" >parch</th>\n",
       "                        <td id=\"T_44771_row5_col0\" class=\"data row5 col0\" >0.081629</td>\n",
       "                        <td id=\"T_44771_row5_col1\" class=\"data row5 col1\" >0.018443</td>\n",
       "                        <td id=\"T_44771_row5_col2\" class=\"data row5 col2\" >0.245489</td>\n",
       "                        <td id=\"T_44771_row5_col3\" class=\"data row5 col3\" >-0.170658</td>\n",
       "                        <td id=\"T_44771_row5_col4\" class=\"data row5 col4\" >0.414838</td>\n",
       "                        <td id=\"T_44771_row5_col5\" class=\"data row5 col5\" >1.000000</td>\n",
       "                        <td id=\"T_44771_row5_col6\" class=\"data row5 col6\" >0.216252</td>\n",
       "                        <td id=\"T_44771_row5_col7\" class=\"data row5 col7\" >-0.078665</td>\n",
       "                        <td id=\"T_44771_row5_col8\" class=\"data row5 col8\" >-0.349943</td>\n",
       "                        <td id=\"T_44771_row5_col9\" class=\"data row5 col9\" >-0.583398</td>\n",
       "            </tr>\n",
       "            <tr>\n",
       "                        <th id=\"T_44771_level0_row6\" class=\"row_heading level0 row6\" >fare</th>\n",
       "                        <td id=\"T_44771_row6_col0\" class=\"data row6 col0\" >0.257482</td>\n",
       "                        <td id=\"T_44771_row6_col1\" class=\"data row6 col1\" >-0.550553</td>\n",
       "                        <td id=\"T_44771_row6_col2\" class=\"data row6 col2\" >0.182331</td>\n",
       "                        <td id=\"T_44771_row6_col3\" class=\"data row6 col3\" >0.090437</td>\n",
       "                        <td id=\"T_44771_row6_col4\" class=\"data row6 col4\" >0.159506</td>\n",
       "                        <td id=\"T_44771_row6_col5\" class=\"data row6 col5\" >0.216252</td>\n",
       "                        <td id=\"T_44771_row6_col6\" class=\"data row6 col6\" >1.000000</td>\n",
       "                        <td id=\"T_44771_row6_col7\" class=\"data row6 col7\" >0.061061</td>\n",
       "                        <td id=\"T_44771_row6_col8\" class=\"data row6 col8\" >-0.181907</td>\n",
       "                        <td id=\"T_44771_row6_col9\" class=\"data row6 col9\" >-0.272355</td>\n",
       "            </tr>\n",
       "            <tr>\n",
       "                        <th id=\"T_44771_level0_row7\" class=\"row_heading level0 row7\" >embarked</th>\n",
       "                        <td id=\"T_44771_row7_col0\" class=\"data row7 col0\" >0.106811</td>\n",
       "                        <td id=\"T_44771_row7_col1\" class=\"data row7 col1\" >0.045702</td>\n",
       "                        <td id=\"T_44771_row7_col2\" class=\"data row7 col2\" >0.116569</td>\n",
       "                        <td id=\"T_44771_row7_col3\" class=\"data row7 col3\" >0.017746</td>\n",
       "                        <td id=\"T_44771_row7_col4\" class=\"data row7 col4\" >-0.059961</td>\n",
       "                        <td id=\"T_44771_row7_col5\" class=\"data row7 col5\" >-0.078665</td>\n",
       "                        <td id=\"T_44771_row7_col6\" class=\"data row7 col6\" >0.061061</td>\n",
       "                        <td id=\"T_44771_row7_col7\" class=\"data row7 col7\" >1.000000</td>\n",
       "                        <td id=\"T_44771_row7_col8\" class=\"data row7 col8\" >-0.108547</td>\n",
       "                        <td id=\"T_44771_row7_col9\" class=\"data row7 col9\" >0.017807</td>\n",
       "            </tr>\n",
       "            <tr>\n",
       "                        <th id=\"T_44771_level0_row8\" class=\"row_heading level0 row8\" >adult_male</th>\n",
       "                        <td id=\"T_44771_row8_col0\" class=\"data row8 col0\" >-0.557080</td>\n",
       "                        <td id=\"T_44771_row8_col1\" class=\"data row8 col1\" >0.094035</td>\n",
       "                        <td id=\"T_44771_row8_col2\" class=\"data row8 col2\" >-0.908578</td>\n",
       "                        <td id=\"T_44771_row8_col3\" class=\"data row8 col3\" >0.222211</td>\n",
       "                        <td id=\"T_44771_row8_col4\" class=\"data row8 col4\" >-0.253586</td>\n",
       "                        <td id=\"T_44771_row8_col5\" class=\"data row8 col5\" >-0.349943</td>\n",
       "                        <td id=\"T_44771_row8_col6\" class=\"data row8 col6\" >-0.181907</td>\n",
       "                        <td id=\"T_44771_row8_col7\" class=\"data row8 col7\" >-0.108547</td>\n",
       "                        <td id=\"T_44771_row8_col8\" class=\"data row8 col8\" >1.000000</td>\n",
       "                        <td id=\"T_44771_row8_col9\" class=\"data row8 col9\" >0.404744</td>\n",
       "            </tr>\n",
       "            <tr>\n",
       "                        <th id=\"T_44771_level0_row9\" class=\"row_heading level0 row9\" >alone</th>\n",
       "                        <td id=\"T_44771_row9_col0\" class=\"data row9 col0\" >-0.203367</td>\n",
       "                        <td id=\"T_44771_row9_col1\" class=\"data row9 col1\" >0.135207</td>\n",
       "                        <td id=\"T_44771_row9_col2\" class=\"data row9 col2\" >-0.303646</td>\n",
       "                        <td id=\"T_44771_row9_col3\" class=\"data row9 col3\" >0.159740</td>\n",
       "                        <td id=\"T_44771_row9_col4\" class=\"data row9 col4\" >-0.584471</td>\n",
       "                        <td id=\"T_44771_row9_col5\" class=\"data row9 col5\" >-0.583398</td>\n",
       "                        <td id=\"T_44771_row9_col6\" class=\"data row9 col6\" >-0.272355</td>\n",
       "                        <td id=\"T_44771_row9_col7\" class=\"data row9 col7\" >0.017807</td>\n",
       "                        <td id=\"T_44771_row9_col8\" class=\"data row9 col8\" >0.404744</td>\n",
       "                        <td id=\"T_44771_row9_col9\" class=\"data row9 col9\" >1.000000</td>\n",
       "            </tr>\n",
       "    </tbody></table>"
      ],
      "text/plain": [
       "<pandas.io.formats.style.Styler at 0x175c35a1070>"
      ]
     },
     "execution_count": 16,
     "metadata": {},
     "output_type": "execute_result"
    }
   ],
   "source": [
    "matrice_corr = titanic.corr(method='pearson')\n",
    "# plt.figure(figsize=(8,5))\n",
    "# sns.heatmap(matrice_corr, annot=True)\n",
    "# plt.show()\n",
    "\n",
    "matrice_corr.style.background_gradient(cmap=\"coolwarm\")"
   ]
  },
  {
   "cell_type": "markdown",
   "metadata": {},
   "source": [
    "#### PassengerId, Name, Ticket, Deck aren't usefull. They don’t contribute much to the outcome.\n",
    "#### According to the correlation matrix, survival is strongly related to the variable Fare, sex and alone."
   ]
  },
  {
   "cell_type": "markdown",
   "metadata": {},
   "source": [
    "## 2. Use different machine learning models to predict the Survival of Titanic Passengers.\n"
   ]
  },
  {
   "cell_type": "markdown",
   "metadata": {},
   "source": [
    "### Import libraries"
   ]
  },
  {
   "cell_type": "code",
   "execution_count": 17,
   "metadata": {},
   "outputs": [],
   "source": [
    "from sklearn import linear_model\n",
    "from sklearn.linear_model import LogisticRegression\n",
    "from sklearn.ensemble import RandomForestClassifier\n",
    "from sklearn.tree import DecisionTreeClassifier\n",
    "from sklearn.neighbors import KNeighborsClassifier\n",
    "from sklearn.naive_bayes import GaussianNB\n",
    "from sklearn.svm import SVC, LinearSVC\n",
    "from sklearn.model_selection import cross_val_score"
   ]
  },
  {
   "cell_type": "markdown",
   "metadata": {},
   "source": [
    "### Creating X_train, Y_train and X_test"
   ]
  },
  {
   "cell_type": "code",
   "execution_count": 67,
   "metadata": {},
   "outputs": [],
   "source": [
    "X_train_titanic = titanic.drop('survived', axis=1)\n",
    "X_train_titanic = X_train_titanic.drop('class', axis=1)\n",
    "X_train_titanic = X_train_titanic.drop('who', axis=1)\n",
    "X_train_titanic = X_train_titanic.drop('adult_male', axis=1)\n",
    "X_train_titanic = X_train_titanic.drop('alive', axis=1)\n",
    "X_train_titanic = X_train_titanic.drop('embark_town', axis=1)\n",
    "X_train_titanic = X_train_titanic.drop('deck', axis=1)\n",
    "X_train_titanic = X_train_titanic.drop('alone', axis=1)\n",
    "\n",
    "Y_train_titanic = titanic['survived']\n",
    "\n",
    "X_test_titanic = test_df.drop(\"passengerId\", axis=1).copy()\n",
    "X_test_titanic = X_test_titanic.drop(\"Cabin\", axis=1).copy()\n",
    "X_test_titanic = X_test_titanic.drop(\"Ticket\", axis=1).copy()\n",
    "X_test_titanic = X_test_titanic.drop(\"name\", axis=1).copy()"
   ]
  },
  {
   "cell_type": "code",
   "execution_count": 21,
   "metadata": {},
   "outputs": [
    {
     "name": "stdout",
     "output_type": "stream",
     "text": [
      "X_train:  (891, 7) ; X_test:  (418, 7)\n",
      "Y_train:  (891,)\n"
     ]
    }
   ],
   "source": [
    "print(\"X_train: \", X_train_titanic.shape,\"; X_test: \", X_test_titanic.shape)\n",
    "print(\"Y_train: \", Y_train_titanic.shape)"
   ]
  },
  {
   "cell_type": "markdown",
   "metadata": {},
   "source": [
    "### Logistic Regression"
   ]
  },
  {
   "cell_type": "code",
   "execution_count": 22,
   "metadata": {},
   "outputs": [
    {
     "name": "stdout",
     "output_type": "stream",
     "text": [
      "80.13\n"
     ]
    },
    {
     "name": "stderr",
     "output_type": "stream",
     "text": [
      "C:\\Users\\julie\\anaconda3\\lib\\site-packages\\sklearn\\linear_model\\_logistic.py:763: ConvergenceWarning: lbfgs failed to converge (status=1):\n",
      "STOP: TOTAL NO. of ITERATIONS REACHED LIMIT.\n",
      "\n",
      "Increase the number of iterations (max_iter) or scale the data as shown in:\n",
      "    https://scikit-learn.org/stable/modules/preprocessing.html\n",
      "Please also refer to the documentation for alternative solver options:\n",
      "    https://scikit-learn.org/stable/modules/linear_model.html#logistic-regression\n",
      "  n_iter_i = _check_optimize_result(\n"
     ]
    },
    {
     "name": "stdout",
     "output_type": "stream",
     "text": [
      "79.35 de précision avec un écart type de 1.51\n"
     ]
    }
   ],
   "source": [
    "logreg = LogisticRegression()\n",
    "logreg.fit(X_train_titanic, Y_train_titanic)\n",
    "\n",
    "Y_pred = logreg.predict(X_test_titanic)\n",
    "\n",
    "acc_log = round(logreg.score(X_train_titanic, Y_train_titanic) * 100, 2)\n",
    "print(acc_log)\n",
    "\n",
    "score6 = cross_val_score(logreg, X_train_titanic, Y_train_titanic, n_jobs=-1)\n",
    "print(\"%0.2f de précision avec un écart type de %0.2f\" % (score6.mean()*100, score6.std()*100))"
   ]
  },
  {
   "cell_type": "markdown",
   "metadata": {},
   "source": [
    "### KNN"
   ]
  },
  {
   "cell_type": "code",
   "execution_count": 23,
   "metadata": {},
   "outputs": [
    {
     "name": "stdout",
     "output_type": "stream",
     "text": [
      "83.61\n",
      "67.13 de précision avec un écart type de 5.62\n"
     ]
    }
   ],
   "source": [
    "knn_classification = KNeighborsClassifier(n_neighbors = 3) \n",
    "knn_classification.fit(X_train_titanic, Y_train_titanic)  \n",
    "Y_pred = knn_classification.predict(X_test_titanic)  \n",
    "acc_knn = round(knn_classification.score(X_train_titanic, Y_train_titanic) * 100, 2)\n",
    "print(acc_knn)\n",
    "\n",
    "score7 = cross_val_score(knn_classification, X_train_titanic, Y_train_titanic, n_jobs=-1)\n",
    "print(\"%0.2f de précision avec un écart type de %0.2f\" % (score7.mean()*100, score7.std()*100))"
   ]
  },
  {
   "cell_type": "markdown",
   "metadata": {},
   "source": [
    "### Gaussian - Bayes"
   ]
  },
  {
   "cell_type": "code",
   "execution_count": 24,
   "metadata": {},
   "outputs": [
    {
     "data": {
      "text/plain": [
       "79.24"
      ]
     },
     "execution_count": 24,
     "metadata": {},
     "output_type": "execute_result"
    }
   ],
   "source": [
    "gaussian = GaussianNB() \n",
    "gaussian.fit(X_train_titanic, Y_train_titanic)  \n",
    "Y_pred = gaussian.predict(X_test_titanic)  \n",
    "acc_gaussian = round(gaussian.score(X_train_titanic, Y_train_titanic) * 100, 2)\n",
    "acc_gaussian"
   ]
  },
  {
   "cell_type": "markdown",
   "metadata": {},
   "source": [
    "### SVC"
   ]
  },
  {
   "cell_type": "code",
   "execution_count": 25,
   "metadata": {},
   "outputs": [
    {
     "name": "stderr",
     "output_type": "stream",
     "text": [
      "C:\\Users\\julie\\anaconda3\\lib\\site-packages\\sklearn\\svm\\_base.py:985: ConvergenceWarning: Liblinear failed to converge, increase the number of iterations.\n",
      "  warnings.warn(\"Liblinear failed to converge, increase \"\n"
     ]
    },
    {
     "data": {
      "text/plain": [
       "75.98"
      ]
     },
     "execution_count": 25,
     "metadata": {},
     "output_type": "execute_result"
    }
   ],
   "source": [
    "linear_svc = LinearSVC()\n",
    "linear_svc.fit(X_train_titanic, Y_train_titanic)\n",
    "\n",
    "Y_pred = linear_svc.predict(X_test_titanic)\n",
    "\n",
    "acc_linear_svc = round(linear_svc.score(X_train_titanic, Y_train_titanic) * 100, 2)\n",
    "acc_linear_svc"
   ]
  },
  {
   "cell_type": "markdown",
   "metadata": {},
   "source": [
    "### Decision Tree"
   ]
  },
  {
   "cell_type": "code",
   "execution_count": 26,
   "metadata": {},
   "outputs": [
    {
     "data": {
      "text/plain": [
       "96.97"
      ]
     },
     "execution_count": 26,
     "metadata": {},
     "output_type": "execute_result"
    }
   ],
   "source": [
    "decision_tree = DecisionTreeClassifier() \n",
    "decision_tree.fit(X_train_titanic, Y_train_titanic)  \n",
    "Y_pred = decision_tree.predict(X_test_titanic)  \n",
    "acc_decision_tree = round(decision_tree.score(X_train_titanic, Y_train_titanic) * 100, 2)\n",
    "acc_decision_tree"
   ]
  },
  {
   "cell_type": "markdown",
   "metadata": {},
   "source": [
    "### Random Forest"
   ]
  },
  {
   "cell_type": "code",
   "execution_count": 27,
   "metadata": {},
   "outputs": [
    {
     "data": {
      "text/plain": [
       "96.97"
      ]
     },
     "execution_count": 27,
     "metadata": {},
     "output_type": "execute_result"
    }
   ],
   "source": [
    "random_forest = RandomForestClassifier(n_estimators=100)\n",
    "random_forest.fit(X_train_titanic, Y_train_titanic)\n",
    "\n",
    "Y_prediction = random_forest.predict(X_test_titanic)\n",
    "\n",
    "random_forest.score(X_train_titanic, Y_train_titanic)\n",
    "acc_random_forest = round(random_forest.score(X_train_titanic, Y_train_titanic) * 100, 2)\n",
    "acc_random_forest"
   ]
  },
  {
   "cell_type": "markdown",
   "metadata": {},
   "source": [
    "## 3. Which is the best Model?"
   ]
  },
  {
   "cell_type": "code",
   "execution_count": 28,
   "metadata": {},
   "outputs": [
    {
     "data": {
      "text/html": [
       "<div>\n",
       "<style scoped>\n",
       "    .dataframe tbody tr th:only-of-type {\n",
       "        vertical-align: middle;\n",
       "    }\n",
       "\n",
       "    .dataframe tbody tr th {\n",
       "        vertical-align: top;\n",
       "    }\n",
       "\n",
       "    .dataframe thead th {\n",
       "        text-align: right;\n",
       "    }\n",
       "</style>\n",
       "<table border=\"1\" class=\"dataframe\">\n",
       "  <thead>\n",
       "    <tr style=\"text-align: right;\">\n",
       "      <th></th>\n",
       "      <th>Model</th>\n",
       "    </tr>\n",
       "    <tr>\n",
       "      <th>Score</th>\n",
       "      <th></th>\n",
       "    </tr>\n",
       "  </thead>\n",
       "  <tbody>\n",
       "    <tr>\n",
       "      <th>96.97</th>\n",
       "      <td>Decision Tree</td>\n",
       "    </tr>\n",
       "    <tr>\n",
       "      <th>96.97</th>\n",
       "      <td>Random Forest</td>\n",
       "    </tr>\n",
       "    <tr>\n",
       "      <th>83.61</th>\n",
       "      <td>Knn Classification</td>\n",
       "    </tr>\n",
       "    <tr>\n",
       "      <th>80.13</th>\n",
       "      <td>Logistic Regression</td>\n",
       "    </tr>\n",
       "    <tr>\n",
       "      <th>79.24</th>\n",
       "      <td>Naive Bayes</td>\n",
       "    </tr>\n",
       "  </tbody>\n",
       "</table>\n",
       "</div>"
      ],
      "text/plain": [
       "                     Model\n",
       "Score                     \n",
       "96.97        Decision Tree\n",
       "96.97        Random Forest\n",
       "83.61   Knn Classification\n",
       "80.13  Logistic Regression\n",
       "79.24          Naive Bayes"
      ]
     },
     "execution_count": 28,
     "metadata": {},
     "output_type": "execute_result"
    }
   ],
   "source": [
    "results = pd.DataFrame({\n",
    "    'Model': ['Logistic Regression', 'Knn Classification',\n",
    "              'Naive Bayes', 'Linear SVC',  \n",
    "              'Decision Tree', 'Random Forest'],\n",
    "    'Score': [acc_log, acc_knn, acc_gaussian, \n",
    "              acc_linear_svc, acc_decision_tree,acc_random_forest]})\n",
    "result_df = results.sort_values(by='Score', ascending=False)\n",
    "result_df = result_df.set_index('Score')\n",
    "result_df.head()"
   ]
  },
  {
   "cell_type": "markdown",
   "metadata": {},
   "source": [
    "#### Here the best model is Decision Tree or Random Forest"
   ]
  }
 ],
 "metadata": {
  "interpreter": {
   "hash": "2be5faf79681da6f2a61fdfdd5405d65d042280f7fba6178067603e3a2925119"
  },
  "kernelspec": {
   "display_name": "Python 3.10.0 64-bit",
   "language": "python",
   "name": "python3"
  },
  "language_info": {
   "codemirror_mode": {
    "name": "ipython",
    "version": 3
   },
   "file_extension": ".py",
   "mimetype": "text/x-python",
   "name": "python",
   "nbconvert_exporter": "python",
   "pygments_lexer": "ipython3",
   "version": "3.8.8"
  },
  "orig_nbformat": 4
 },
 "nbformat": 4,
 "nbformat_minor": 2
}
